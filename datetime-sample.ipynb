{
 "cells": [
  {
   "attachments": {},
   "cell_type": "markdown",
   "metadata": {},
   "source": [
    "# Введение в работу с датами и временем\n",
    "Модуль Datetime предоставляет нам следующие часто используемые классы:\n",
    "\n",
    "+ date: этот объект хранит год, месяц и день в качестве атрибутов"
   ]
  },
  {
   "cell_type": "code",
   "execution_count": 3,
   "metadata": {},
   "outputs": [
    {
     "data": {
      "text/plain": [
       "datetime.date(2022, 7, 23)"
      ]
     },
     "execution_count": 3,
     "metadata": {},
     "output_type": "execute_result"
    }
   ],
   "source": [
    "from datetime import date\n",
    "date(year=2022, month=7, day=23)"
   ]
  },
  {
   "attachments": {},
   "cell_type": "markdown",
   "metadata": {},
   "source": [
    "+ time: этот объект хранит час, минуту, секунду,\n",
    "микросекунду и информацию про часовой\n",
    "пояс"
   ]
  },
  {
   "cell_type": "code",
   "execution_count": 4,
   "metadata": {},
   "outputs": [
    {
     "data": {
      "text/plain": [
       "datetime.time(22, 15, 2)"
      ]
     },
     "execution_count": 4,
     "metadata": {},
     "output_type": "execute_result"
    }
   ],
   "source": [
    "from datetime import time\n",
    "time(hour=22, minute=15, second=2)"
   ]
  },
  {
   "attachments": {},
   "cell_type": "markdown",
   "metadata": {},
   "source": [
    "+ dateeime: это комбинация предыдущих двух,\n",
    "в нем есть атрибуты обоих классов"
   ]
  },
  {
   "cell_type": "code",
   "execution_count": 5,
   "metadata": {},
   "outputs": [
    {
     "data": {
      "text/plain": [
       "datetime.datetime(2022, 7, 23, 22, 15, 2)"
      ]
     },
     "execution_count": 5,
     "metadata": {},
     "output_type": "execute_result"
    }
   ],
   "source": [
    "from datetime import datetime\n",
    "datetime(year=2022, month=7, day=23, hour=22, minute=15, second=2)"
   ]
  },
  {
   "attachments": {},
   "cell_type": "markdown",
   "metadata": {},
   "source": [
    "\n",
    "Но часто (особенно в анализе данных) бывает нужно создать экземпляр объекта даты или даты и времени из строки вместо передачи каждого атрибута по отдельности.\n",
    "\n",
    "+ `date.fromisoformat()` : построит дату из строки в формате ISO (\"yyyy-mm-dd\")"
   ]
  },
  {
   "cell_type": "code",
   "execution_count": 7,
   "metadata": {},
   "outputs": [
    {
     "data": {
      "text/plain": [
       "datetime.date(2023, 6, 25)"
      ]
     },
     "execution_count": 7,
     "metadata": {},
     "output_type": "execute_result"
    }
   ],
   "source": [
    "from datetime import date\n",
    "date.fromisoformat(\"2023-06-25\")"
   ]
  },
  {
   "attachments": {},
   "cell_type": "markdown",
   "metadata": {},
   "source": [
    "+ `datetime.strptime(date_string, format)`: построит\n",
    "дату из строки в указанном формате. Вот\n",
    "примеры форматов:"
   ]
  },
  {
   "cell_type": "code",
   "execution_count": 5,
   "metadata": {},
   "outputs": [
    {
     "name": "stdout",
     "output_type": "stream",
     "text": [
      "Naive timezone =  2023-07-22 21:30:15 None\n",
      "Aware timezone UTC =  2023-07-22 21:30:15+00:00 UTC\n",
      "Aware timezone Kiev =  2023-07-22 21:30:15+03:00 Europe/Kiev\n",
      "Aware timezone Kiev =  2023-07-22 18:30:15+00:00 UTC\n"
     ]
    }
   ],
   "source": [
    "from datetime import datetime\n",
    "from pytz import timezone\n",
    "\n",
    "date_string = \"07-22-2023 21:30:15\"\n",
    "format= \"%m-%d-%Y %H:%M:%S\"\n",
    "# наивное время\n",
    "dt_naive = datetime.strptime(date_string, format)\n",
    "print(\"Naive timezone = \", dt_naive, dt_naive.tzinfo)\n",
    "# обизнане время\n",
    "dt_aware_utc = timezone('UTC').localize(dt_naive)\n",
    "print(\"Aware timezone UTC = \", dt_aware_utc, dt_aware_utc.tzinfo)\n",
    "\n",
    "timezone_kiev = timezone(\"Europe/Kiev\")\n",
    "dt_aware_kiev = timezone_kiev.localize(dt_naive)\n",
    "print(\"Aware timezone Kiev = \", dt_aware_kiev, dt_aware_kiev.tzinfo)\n",
    "print(\"Aware timezone Kiev = \", dt_aware_kiev.astimezone(timezone('UTC')), dt_aware_kiev.astimezone(timezone('UTC')).tzinfo)\n"
   ]
  },
  {
   "attachments": {},
   "cell_type": "markdown",
   "metadata": {},
   "source": [
    "или так к примеру:"
   ]
  },
  {
   "cell_type": "code",
   "execution_count": 2,
   "metadata": {},
   "outputs": [
    {
     "data": {
      "text/plain": [
       "datetime.datetime(2023, 6, 26, 3, 24, 41, 755343)"
      ]
     },
     "execution_count": 2,
     "metadata": {},
     "output_type": "execute_result"
    }
   ],
   "source": [
    "from datetime import datetime\n",
    "date_string = \"jerelia_backup_2023_06_26_032441_755343\"\n",
    "format= \"jerelia_backup_%Y_%m_%d_%H%M%S_%f\"\n",
    "datetime.strptime(date_string, format)"
   ]
  },
  {
   "attachments": {},
   "cell_type": "markdown",
   "metadata": {},
   "source": [
    "В приведенных примерах мы создали экземпляры классов, передав различные атрибуты их конструкторам. Однако модуль datetime предоставляет несколько других методов для создания экземпляров.\n",
    "\n",
    "+ `date.today()` создает экземпляр datetime.date с текущей локальной датой\n",
    "\n",
    "+ `datetime.now()` создает экземпляр datetime.datetime с текущими датой и временем\n",
    "\n",
    "+ `datetime.combine()` объединяет экземпляры datetime.date и datetime.time в один экземпляр datetime.datetime"
   ]
  },
  {
   "cell_type": "code",
   "execution_count": 2,
   "metadata": {},
   "outputs": [
    {
     "name": "stdout",
     "output_type": "stream",
     "text": [
      "4512763489694182491\n"
     ]
    },
    {
     "data": {
      "text/plain": [
       "datetime.datetime(2023, 6, 25, 21, 39, 47)"
      ]
     },
     "execution_count": 2,
     "metadata": {},
     "output_type": "execute_result"
    }
   ],
   "source": [
    "from datetime import date, time, datetime\n",
    "\n",
    "today = date.today() \n",
    "now = datetime.now()\n",
    "\n",
    "print(hash(now))\n",
    "\n",
    "current_time = time(now.hour, now.minute, now.second)\n",
    "datetime.combine(today, current_time)"
   ]
  },
  {
   "attachments": {},
   "cell_type": "markdown",
   "metadata": {},
   "source": [
    "Еще одна наиболее частая задача: вычислить разность между датами. Тут пригодится **timedelta**: когда ты вычитаешь одну дату из другой, создается экземпляр этого класс(атрибуты: недели, дни, часы, секунды)."
   ]
  },
  {
   "cell_type": "code",
   "execution_count": 7,
   "metadata": {},
   "outputs": [
    {
     "name": "stdout",
     "output_type": "stream",
     "text": [
      "<class 'datetime.timedelta'> : 33 days, 0:00:00\n"
     ]
    }
   ],
   "source": [
    "from datetime import date\n",
    "\n",
    "datel= date(year = 2022, month = 7, day = 25) \n",
    "date2 = date(year = 2022, month = 6, day = 22) \n",
    "date3 = datel - date2\n",
    "\n",
    "print(f\"{type(date3)} : {date3}\")"
   ]
  },
  {
   "attachments": {},
   "cell_type": "markdown",
   "metadata": {},
   "source": [
    "Мы можем выполнять арифметические действия\n",
    "даже с самими объектами дельты:"
   ]
  },
  {
   "cell_type": "code",
   "execution_count": 10,
   "metadata": {},
   "outputs": [],
   "source": [
    "from datetime import timedelta\n",
    "\n",
    "td1 = timedelta(weeks = 3, days = 3, hours = 2, seconds = 20)\n",
    "td2 = timedelta(days = 5, hours = 9, minutes = 14, seconds = 4)\n",
    "td3 = td1 - td2"
   ]
  },
  {
   "attachments": {},
   "cell_type": "markdown",
   "metadata": {},
   "source": [
    "В самом начале мы упомянули, что питон позволяет работать с часовыми поясами. В библиотеке даже **pytz** реализован для этого специальный класс часовых поясов. Эта библиотека позволяет выполнять точные и кросс-платформенные расчеты часовых поясов."
   ]
  },
  {
   "cell_type": "code",
   "execution_count": 18,
   "metadata": {},
   "outputs": [
    {
     "name": "stdout",
     "output_type": "stream",
     "text": [
      "2023-06-25 23:02:00.172736\n",
      "2023-06-25 20:02:00.173738+00:00\n",
      "2023-06-25 23:02:00.173738+03:00\n",
      "20230625 23:02:00 EEST+0300\n"
     ]
    }
   ],
   "source": [
    "from datetime import datetime\n",
    "import pytz\n",
    "\n",
    "# без часового пояса \n",
    "localdatetime = datetime.now()\n",
    "print(localdatetime)\n",
    "\n",
    "# счасовым поясом по умолчанию \n",
    "datetime_with_utc = datetime.now(pytz.utc)\n",
    "print(datetime_with_utc)\n",
    "\n",
    "# счасовым поясом Europe/Kyiv \n",
    "datetime_eu_kyiv = datetime.now(pytz.timezone('Europe/Kyiv'))\n",
    "print(datetime_eu_kyiv)\n",
    "\n",
    "format = \"%Y%m%d %H:%M:%S %Z%z\"\n",
    "print(datetime_eu_kyiv.strftime(format))"
   ]
  },
  {
   "attachments": {},
   "cell_type": "markdown",
   "metadata": {},
   "source": [
    " |Directive |\tMeaning |\tExample |\n",
    " |----------|-----------|-----------|\n",
    " |%a |\tAbbreviated weekday name. |\tSun, Mon, ... |\n",
    " |%A |\tFull weekday name. |\tSunday, Monday, ... |\n",
    " |%b |\tAbbreviated month name. |\tJan, Feb, ..., Dec |\n",
    " |%B |\tFull month name. |\tJanuary, February, ... |\n",
    " |%c |\tLocale’s appropriate date and time representation. |\tMon Sep 30 07:06:05 2013 |\n",
    " |%C |\tCentury number (the year divided by 100, range 00 to 99) |\t|\n",
    " |%d |\tDay of the month as a zero-padded decimal. |\t01, 02, ..., 31 |\n",
    " |%-d |\tDay of the month as a decimal number. |\t1, 2, ..., 30 |\n",
    " |%D |\tSame as %m/%d/%y |\t|\n",
    " |%e |\tDay of the month (1 to 31) |\t|\n",
    " |%f |\tMicrosecond as a decimal number, zero-padded on the left. |\t000000 - 999999 |\n",
    " |%g |\tLike %G, but without the century |\t|\n",
    " |%G |\t4-digit year corresponding to the ISO week number (see %V) |\t|\n",
    " |%h |\tsame as %b |\t|\n",
    " |%H |\tHour (24-hour clock) as a zero-padded decimal number. |\t00, 01, ..., 23 |\n",
    " |%-H |\tHour (24-hour clock) as a decimal number. |\t0, 1, ..., 23 |\n",
    " |%I |\tHour (12-hour clock) as a zero-padded decimal number. |\t01, 02, ..., 12 |\n",
    " |%-I |\tHour (12-hour clock) as a decimal number. |\t1, 2, ... 12 |\n",
    " |%j |\tDay of the year as a zero-padded decimal number. |\t001, 002, ..., 366 |\n",
    " |%-j |\tDay of the year as a decimal number. |\t1, 2, ..., 366 |\n",
    " |%m |\tMonth as a zero-padded decimal number. |\t01, 02, ..., 12 |\n",
    " |%-m |\tMonth as a decimal number. |\t1, 2, ..., 12 |\n",
    " |%M |\tMinute as a zero-padded decimal number. |\t00, 01, ..., 59 |\n",
    " |%-M |\tMinute as a decimal number. |\t0, 1, ..., 59 |\n",
    " |%n |\tNewline character |\t|\n",
    " |%p |\tLocale’s AM or PM. |\tAM, PM |\n",
    " |%r |\tTime in a.m. and p.m. notation |\t|\n",
    " |%R |\ttime in 24 hour notation |\t|\n",
    " |%S |\tSecond as a zero-padded decimal number. |\t00, 01, ..., 59 |\n",
    " |%-S |\tSecond as a decimal number. |\t0, 1, ..., 59 |\n",
    " |%t |\ttab character |\t|\n",
    " |%T |\tcurrent time, equal to %H:%M:% |\t|\n",
    " |%u |\tweekday as a number (1 to 7), Monday=1. Warning: In Sun Solaris Sunday=1 |\t|\n",
    " |%U |\tWeek number of the year (Sunday as the first day of the week). All days in a new year preceding the first Sunday are considered to be in week 0. |\t00, 01, ..., 53 |\n",
    " |%V |\tThe ISO 8601 week number of the current year (01 to 53), where week 1 is the first week that has at least 4 days in the current year, and with Monday as the first day of the week |\t| \n",
    " |%w |\tWeekday as a decimal number. |\t0, 1, ..., 6 |\n",
    " |%W |\tWeek number of the year (Monday as the first day of the week). All days in a new year preceding the first Monday are considered to be in week 0. |\t00, 01, ..., 53 |\n",
    " |%x |\tLocale’s appropriate date representation. |\t09/30/13 |\n",
    " |%X |\tLocale’s appropriate time representation. |\t07:06:05 |\n",
    " |%y |\tYear without century as a zero-padded decimal number. |\t00, 01, ..., 99 |\n",
    " |%-y |\tYear without century as a decimal number. |\t0, 1, ..., 99 |\n",
    " |%Y |\tYear with century as a decimal number. |\t2013, 2019 etc. |\n",
    " |%z |\tUTC offset in the form +HHMM or -HHMM. |\t  |\n",
    " |%Z |\tTime zone name. |\t  |\n",
    " |%% |\tA literal '%' character. |\t% |"
   ]
  }
 ],
 "metadata": {
  "kernelspec": {
   "display_name": "venv3.10",
   "language": "python",
   "name": "python3"
  },
  "language_info": {
   "codemirror_mode": {
    "name": "ipython",
    "version": 3
   },
   "file_extension": ".py",
   "mimetype": "text/x-python",
   "name": "python",
   "nbconvert_exporter": "python",
   "pygments_lexer": "ipython3",
   "version": "3.10.10"
  },
  "orig_nbformat": 4
 },
 "nbformat": 4,
 "nbformat_minor": 2
}
