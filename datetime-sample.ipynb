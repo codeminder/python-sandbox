{
 "cells": [
  {
   "attachments": {},
   "cell_type": "markdown",
   "metadata": {},
   "source": [
    "# Введение в работу с датами и временем\n",
    "Модуль Datetime предоставляет нам следующие часто используемые классы:\n",
    "\n",
    "+ date: этот объект хранит год, месяц и день в качестве атрибутов"
   ]
  },
  {
   "cell_type": "code",
   "execution_count": 3,
   "metadata": {},
   "outputs": [
    {
     "data": {
      "text/plain": [
       "datetime.date(2022, 7, 23)"
      ]
     },
     "execution_count": 3,
     "metadata": {},
     "output_type": "execute_result"
    }
   ],
   "source": [
    "from datetime import date\n",
    "date(year=2022, month=7, day=23)"
   ]
  },
  {
   "attachments": {},
   "cell_type": "markdown",
   "metadata": {},
   "source": [
    "+ time: этот объект хранит час, минуту, секунду,\n",
    "микросекунду и информацию про часовой\n",
    "пояс"
   ]
  },
  {
   "cell_type": "code",
   "execution_count": 4,
   "metadata": {},
   "outputs": [
    {
     "data": {
      "text/plain": [
       "datetime.time(22, 15, 2)"
      ]
     },
     "execution_count": 4,
     "metadata": {},
     "output_type": "execute_result"
    }
   ],
   "source": [
    "from datetime import time\n",
    "time(hour=22, minute=15, second=2)"
   ]
  },
  {
   "attachments": {},
   "cell_type": "markdown",
   "metadata": {},
   "source": [
    "+ dateeime: это комбинация предыдущих двух,\n",
    "в нем есть атрибуты обоих классов"
   ]
  },
  {
   "cell_type": "code",
   "execution_count": 5,
   "metadata": {},
   "outputs": [
    {
     "data": {
      "text/plain": [
       "datetime.datetime(2022, 7, 23, 22, 15, 2)"
      ]
     },
     "execution_count": 5,
     "metadata": {},
     "output_type": "execute_result"
    }
   ],
   "source": [
    "from datetime import datetime\n",
    "datetime(year=2022, month=7, day=23, hour=22, minute=15, second=2)"
   ]
  },
  {
   "attachments": {},
   "cell_type": "markdown",
   "metadata": {},
   "source": [
    "\n",
    "Но часто (особенно в анализе данных) бывает нужно создать экземпляр объекта даты или даты и времени из строки вместо передачи каждого атрибута по отдельности.\n",
    "\n",
    "+ `date.fromisoformat()` : построит дату из строки в формате ISO (\"yyyy-mm-dd\")"
   ]
  },
  {
   "cell_type": "code",
   "execution_count": 7,
   "metadata": {},
   "outputs": [
    {
     "data": {
      "text/plain": [
       "datetime.date(2023, 6, 25)"
      ]
     },
     "execution_count": 7,
     "metadata": {},
     "output_type": "execute_result"
    }
   ],
   "source": [
    "from datetime import date\n",
    "date.fromisoformat(\"2023-06-25\")"
   ]
  },
  {
   "attachments": {},
   "cell_type": "markdown",
   "metadata": {},
   "source": [
    "+ `datetime.strptime(date_string, format)`: построит\n",
    "дату из строки в указанном формате. Вот\n",
    "примеры форматов:"
   ]
  },
  {
   "cell_type": "code",
   "execution_count": 8,
   "metadata": {},
   "outputs": [
    {
     "data": {
      "text/plain": [
       "datetime.datetime(2023, 7, 22, 21, 30, 15)"
      ]
     },
     "execution_count": 8,
     "metadata": {},
     "output_type": "execute_result"
    }
   ],
   "source": [
    "from datetime import datetime\n",
    "date_string = \"07-22-2023 21:30:15\"\n",
    "format= \"%m-%d-%Y %H:%M:%S\"\n",
    "datetime.strptime(date_string, format)"
   ]
  },
  {
   "attachments": {},
   "cell_type": "markdown",
   "metadata": {},
   "source": [
    "В приведенных примерах мы создали экземпляры классов, передав различные атрибуты их конструкторам. Однако модуль datetime предоставляет несколько других методов для создания экземпляров.\n",
    "\n",
    "+ `date.today()` создает экземпляр datetime.date с текущей локальной датой\n",
    "\n",
    "+ `datetime.now()` создает экземпляр datetime.datetime с текущими датой и временем\n",
    "\n",
    "+ `datetime.combine()` объединяет экземпляры datetime.date и datetime.time в один экземпляр datetime.datetime"
   ]
  },
  {
   "cell_type": "code",
   "execution_count": 2,
   "metadata": {},
   "outputs": [
    {
     "name": "stdout",
     "output_type": "stream",
     "text": [
      "4512763489694182491\n"
     ]
    },
    {
     "data": {
      "text/plain": [
       "datetime.datetime(2023, 6, 25, 21, 39, 47)"
      ]
     },
     "execution_count": 2,
     "metadata": {},
     "output_type": "execute_result"
    }
   ],
   "source": [
    "from datetime import date, time, datetime\n",
    "\n",
    "today = date.today() \n",
    "now = datetime.now()\n",
    "\n",
    "print(hash(now))\n",
    "\n",
    "current_time = time(now.hour, now.minute, now.second)\n",
    "datetime.combine(today, current_time)"
   ]
  },
  {
   "attachments": {},
   "cell_type": "markdown",
   "metadata": {},
   "source": [
    "Еще одна наиболее частая задача: вычислить разность между датами. Тут пригодится **timedelta**: когда ты вычитаешь одну дату из другой, создается экземпляр этого класс(атрибуты: недели, дни, часы, секунды)."
   ]
  },
  {
   "cell_type": "code",
   "execution_count": 7,
   "metadata": {},
   "outputs": [
    {
     "name": "stdout",
     "output_type": "stream",
     "text": [
      "<class 'datetime.timedelta'> : 33 days, 0:00:00\n"
     ]
    }
   ],
   "source": [
    "from datetime import date\n",
    "\n",
    "datel= date(year = 2022, month = 7, day = 25) \n",
    "date2 = date(year = 2022, month = 6, day = 22) \n",
    "date3 = datel - date2\n",
    "\n",
    "print(f\"{type(date3)} : {date3}\")"
   ]
  },
  {
   "attachments": {},
   "cell_type": "markdown",
   "metadata": {},
   "source": [
    "Мы можем выполнять арифметические действия\n",
    "даже с самими объектами дельты:"
   ]
  },
  {
   "cell_type": "code",
   "execution_count": 10,
   "metadata": {},
   "outputs": [],
   "source": [
    "from datetime import timedelta\n",
    "\n",
    "td1 = timedelta(weeks = 3, days = 3, hours = 2, seconds = 20)\n",
    "td2 = timedelta(days = 5, hours = 9, minutes = 14, seconds = 4)\n",
    "td3 = td1 - td2"
   ]
  },
  {
   "attachments": {},
   "cell_type": "markdown",
   "metadata": {},
   "source": [
    "В самом начале мы упомянули, что питон позволяет работать с часовыми поясами. В библиотеке даже **pytz** реализован для этого специальный класс часовых поясов. Эта библиотека позволяет выполнять точные и кросс-платформенные расчеты часовых поясов."
   ]
  },
  {
   "cell_type": "code",
   "execution_count": 18,
   "metadata": {},
   "outputs": [
    {
     "name": "stdout",
     "output_type": "stream",
     "text": [
      "2023-06-25 23:02:00.172736\n",
      "2023-06-25 20:02:00.173738+00:00\n",
      "2023-06-25 23:02:00.173738+03:00\n",
      "20230625 23:02:00 EEST+0300\n"
     ]
    }
   ],
   "source": [
    "from datetime import datetime\n",
    "import pytz\n",
    "\n",
    "# без часового пояса \n",
    "localdatetime = datetime.now()\n",
    "print(localdatetime)\n",
    "\n",
    "# счасовым поясом по умолчанию \n",
    "datetime_with_utc = datetime.now(pytz.utc)\n",
    "print(datetime_with_utc)\n",
    "\n",
    "# счасовым поясом Europe/Kyiv \n",
    "datetime_eu_kyiv = datetime.now(pytz.timezone('Europe/Kyiv'))\n",
    "print(datetime_eu_kyiv)\n",
    "\n",
    "format = \"%Y%m%d %H:%M:%S %Z%z\"\n",
    "print(datetime_eu_kyiv.strftime(format))"
   ]
  },
  {
   "attachments": {},
   "cell_type": "markdown",
   "metadata": {},
   "source": [
    "#### Directive for format\n",
    "%a - abbreviated weekday name\n",
    "%A - full weekday name\n",
    "%b - abbreviated month name\n",
    "%B - full month name\n",
    "%c - preferred date and time representation\n",
    "%C - century number (the year divided by 100, range 00 to 99)\n",
    "%d - day of the month (01 to 31)\n",
    "%D - same as %m/%d/%y\n",
    "%e - day of the month (1 to 31)\n",
    "%g - like %G, but without the century\n",
    "%G - 4-digit year corresponding to the ISO week number (see %V).\n",
    "%h - same as %b\n",
    "%H - hour, using a 24-hour clock (00 to 23)\n",
    "%I - hour, using a 12-hour clock (01 to 12)\n",
    "%j - day of the year (001 to 366)\n",
    "%m - month (01 to 12)\n",
    "%M - minute\n",
    "%n - newline character\n",
    "%p - either am or pm according to the given time value\n",
    "%r - time in a.m. and p.m. notation\n",
    "%R - time in 24 hour notation\n",
    "%S - second\n",
    "%t - tab character\n",
    "%T - current time, equal to %H:%M:%\n",
    "%u - weekday as a number (1 to 7), Monday=1. Warning: In Sun Solaris Sunday=1\n",
    "%U - week number of the current year, starting with the first Sunday as the first day of the first week\n",
    "%V - The ISO 8601 week number of the current year (01 to 53), where week 1 is the first week that has at least 4 days in the current year, and with Monday as the first day of the week\n",
    "%W - week number of the current year, starting with the first Monday as the first day of the first week\n",
    "%w - day of the week as a decimal, Sunday=0\n",
    "%x - preferred date representation without the time\n",
    "%X - preferred time representation without the date\n",
    "%y - year without a century (range 00 to 99)\n",
    "%Y - year including the century\n",
    "%Z or %z - time zone or name or abbreviation\n",
    "%% - a literal % character"
   ]
  }
 ],
 "metadata": {
  "kernelspec": {
   "display_name": "venv3.10",
   "language": "python",
   "name": "python3"
  },
  "language_info": {
   "codemirror_mode": {
    "name": "ipython",
    "version": 3
   },
   "file_extension": ".py",
   "mimetype": "text/x-python",
   "name": "python",
   "nbconvert_exporter": "python",
   "pygments_lexer": "ipython3",
   "version": "3.10.10"
  },
  "orig_nbformat": 4
 },
 "nbformat": 4,
 "nbformat_minor": 2
}
