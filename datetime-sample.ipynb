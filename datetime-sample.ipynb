{
 "cells": [
  {
   "attachments": {},
   "cell_type": "markdown",
   "metadata": {},
   "source": [
    "# Введение в работу с датами и временем\n",
    "\n",
    "Но часто (особенно в анализе данных) бывает нужно создать экземпляр объекта даты или даты и времени из строки вместо передачи каждого атрибута по отдельности.\n",
    "\n",
    "+ `date.fromisoformat()` : построит дату из строки в формате ISO (\"yyyy-mm-dd\")"
   ]
  },
  {
   "cell_type": "code",
   "execution_count": 7,
   "metadata": {},
   "outputs": [
    {
     "data": {
      "text/plain": [
       "datetime.date(2023, 6, 25)"
      ]
     },
     "execution_count": 7,
     "metadata": {},
     "output_type": "execute_result"
    }
   ],
   "source": [
    "from datetime import date\n",
    "date.fromisoformat(\"2023-06-25\")"
   ]
  },
  {
   "attachments": {},
   "cell_type": "markdown",
   "metadata": {},
   "source": [
    "+ `datetime.strptime(date_string, format)`: построит\n",
    "дату из строки в указанном формате. Вот\n",
    "примеры форматов:"
   ]
  },
  {
   "cell_type": "code",
   "execution_count": 8,
   "metadata": {},
   "outputs": [
    {
     "data": {
      "text/plain": [
       "datetime.datetime(2023, 7, 22, 21, 30, 15)"
      ]
     },
     "execution_count": 8,
     "metadata": {},
     "output_type": "execute_result"
    }
   ],
   "source": [
    "from datetime import datetime\n",
    "date_string = \"07-22-2023 21:30:15\"\n",
    "format= \"%m-%d-%Y %H:%M:%S\"\n",
    "datetime.strptime(date_string, format)"
   ]
  },
  {
   "attachments": {},
   "cell_type": "markdown",
   "metadata": {},
   "source": [
    "В приведенных примерах мы создали экземпляры классов, передав различные атрибуты их конструкторам. Однако модуль datetime предоставляет несколько других методов для создания экземпляров.\n",
    "\n",
    "+ `date.today()` создает экземпляр datetime.date с текущей локальной датой\n",
    "\n",
    "+ `datetime.now()` создает экземпляр datetime.datetime с текущими датой и временем\n",
    "\n",
    "+ `datetime.combine()` объединяет экземпляры datetime.date и datetime.time в один экземпляр datetime.datetime"
   ]
  },
  {
   "cell_type": "code",
   "execution_count": 2,
   "metadata": {},
   "outputs": [
    {
     "name": "stdout",
     "output_type": "stream",
     "text": [
      "4512763489694182491\n"
     ]
    },
    {
     "data": {
      "text/plain": [
       "datetime.datetime(2023, 6, 25, 21, 39, 47)"
      ]
     },
     "execution_count": 2,
     "metadata": {},
     "output_type": "execute_result"
    }
   ],
   "source": [
    "from datetime import date, time, datetime\n",
    "\n",
    "today = date.today() \n",
    "now = datetime.now()\n",
    "\n",
    "print(hash(now))\n",
    "\n",
    "current_time = time(now.hour, now.minute, now.second)\n",
    "datetime.combine(today, current_time)"
   ]
  }
 ],
 "metadata": {
  "kernelspec": {
   "display_name": "venv3.10",
   "language": "python",
   "name": "python3"
  },
  "language_info": {
   "codemirror_mode": {
    "name": "ipython",
    "version": 3
   },
   "file_extension": ".py",
   "mimetype": "text/x-python",
   "name": "python",
   "nbconvert_exporter": "python",
   "pygments_lexer": "ipython3",
   "version": "3.10.10"
  },
  "orig_nbformat": 4
 },
 "nbformat": 4,
 "nbformat_minor": 2
}
