{
 "cells": [
  {
   "attachments": {},
   "cell_type": "markdown",
   "metadata": {},
   "source": [
    "Beautiful is better than ugly.\n",
    "\n",
    "Explicit is better than implicit.\n",
    "\n",
    "Simple is better than complex.\n",
    "\n",
    "Complex is better than complicated.\n",
    "\n",
    "Flat is better than nested.\n",
    "\n",
    "Sparse is better than dense.\n",
    "\n",
    "Readability counts.\n",
    "\n",
    "Special cases aren't special enough to break the rules.\n",
    "\n",
    "Although practicality beats purity.\n",
    "\n",
    "Errors should never pass silently.\n",
    "\n",
    "Unless explicitly silenced.\n",
    "\n",
    "In the face of ambiguity, refuse the temptation to guess.\n",
    "\n",
    "There should be one-- and preferably only one --obvious way to do it.\n",
    "\n",
    "Although that way may not be obvious at first unless you're Dutch.\n",
    "\n",
    "Now is better than never.\n",
    "\n",
    "Although never is often better than *right* now.\n",
    "\n",
    "If the implementation is hard to explain, it's a bad idea.\n",
    "\n",
    "If the implementation is easy to explain, it may be a good idea.\n",
    "\n",
    "Namespaces are one honking great idea -- let's do more of those!"
   ]
  },
  {
   "cell_type": "code",
   "execution_count": 10,
   "metadata": {},
   "outputs": [
    {
     "name": "stdout",
     "output_type": "stream",
     "text": [
      "{'Vasya say: Bla-bla-bla', 'simple text: Element of text'}\n"
     ]
    }
   ],
   "source": [
    "class Text:\n",
    "    \n",
    "    def __init__(self, text) -> None:\n",
    "        self.text = text\n",
    "        \n",
    "    def __str__(self) -> str:\n",
    "        return f\"simple text: {self.text}\"\n",
    "        \n",
    "class Comment(Text):\n",
    "    def __init__(self, text, avtor) -> None:\n",
    "        super().__init__(text)\n",
    "        self.avtor = avtor\n",
    "        \n",
    "    def __str__(self) -> str:\n",
    "        return f\"{self.avtor} say: {self.text}\"\n",
    "    \n",
    "class Page:\n",
    "    \n",
    "    def __init__(self) -> None:\n",
    "        self.elements = []\n",
    "        \n",
    "    def add_element(self, element):\n",
    "        self.elements.append(element)\n",
    "        \n",
    "    def __str__(self) -> str:\n",
    "        return f\"{ {*[str(e) for e in self.elements]} }\"\n",
    "        \n",
    "comment = Comment(\"Bla-bla-bla\", \"Vasya\")\n",
    "text = Text(\"Element of text\")\n",
    "pg = Page()\n",
    "pg.add_element(comment)\n",
    "pg.add_element(text)\n",
    "print(pg)"
   ]
  }
 ],
 "metadata": {
  "kernelspec": {
   "display_name": "venv3.10",
   "language": "python",
   "name": "python3"
  },
  "language_info": {
   "codemirror_mode": {
    "name": "ipython",
    "version": 3
   },
   "file_extension": ".py",
   "mimetype": "text/x-python",
   "name": "python",
   "nbconvert_exporter": "python",
   "pygments_lexer": "ipython3",
   "version": "3.10.10"
  },
  "orig_nbformat": 4
 },
 "nbformat": 4,
 "nbformat_minor": 2
}
