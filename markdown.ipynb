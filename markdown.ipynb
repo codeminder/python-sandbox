{
 "cells": [
  {
   "cell_type": "markdown",
   "metadata": {},
   "source": [
    "### 1. Заголовки\n",
    "\n",
    "Заголовки размечаются символом решетки в начале строки. Количество решеток соответсвует уровню заголовка.\n",
    "\n",
    "# Заголовок первого уровня\n",
    "## Заголовок h2\n",
    "### Заголовок h3\n",
    "#### Заголовок h4\n",
    "##### Заголовок h5\n",
    "###### Заголовок h6"
   ]
  },
  {
   "cell_type": "markdown",
   "metadata": {},
   "source": [
    "### 2. Неупорядоченные списки\n",
    "\n",
    "Для разметки используются любые из символов -, +, *.\n",
    "\n",
    "- элемент 1\n",
    "- элемент 2\n",
    "- элемент ..."
   ]
  },
  {
   "cell_type": "markdown",
   "metadata": {},
   "source": [
    "### 3. Упорядоченные списки\n",
    "\n",
    "1. элемент\n",
    "2. элемент\n",
    "    1. вложенный\n",
    "    3. вложенный\n",
    "3. элемент\n",
    "\n",
    "На самом деле нумерация тут не важна, главное чтобы перед элементом списка стояла любая цифра с точкой."
   ]
  },
  {
   "cell_type": "markdown",
   "metadata": {},
   "source": [
    "### 4. Исходный код\n",
    "В оригинальном Markdown код размечается 4 пробелами в начале каждой строки.\n",
    "\n",
    "В GFM – по три апострофа до и после блока с кодом.\n",
    "\n",
    "```html\n",
    "<!DOCTYPE html>\n",
    "<html lang=\"en\">\n",
    "<head>\n",
    "\t<meta charset=\"UTF-8\">\n",
    "\t<title>title</title>\n",
    "</head>\n",
    "<body>\n",
    "\t<p>content</p>\n",
    "</body>\n",
    "</html>\n",
    "```"
   ]
  },
  {
   "cell_type": "markdown",
   "metadata": {},
   "source": [
    "### 4. Инлайн код\n",
    "\n",
    "Код внтури абзаца заключатся в апострофы.\n",
    "\n",
    "Код внтури абзаца заключатся в апострофы. Пример: `<html class=\"some-class\">`.\n",
    "\n",
    "Если внутри кода есть апостроф, то код надо обрамить двойными апострофами: ``There is a literal backtick (`) here.``\n"
   ]
  },
  {
   "cell_type": "markdown",
   "metadata": {},
   "source": [
    "### 5. Горизонтальная черта\n",
    "\n",
    "Создается тремя звездочками *** или тремя дефисами ---.\n",
    "\n",
    "***"
   ]
  },
  {
   "cell_type": "markdown",
   "metadata": {},
   "source": [
    "### 6. Ссылки\n",
    "\n",
    "Пример [ссылки с title элементом](https://trofimovdigital.ru \"title\").\n",
    "\n",
    "А это [ссылка без title](https://trofimovdigital.ru).\n",
    "\n",
    "Пример ссылок с разметкой как у сносок.\n",
    "\n",
    "[Пример][1] [нескольких][2] [ссылок][id] с разметкой как у сносок. [Короткая запись][] без указания id.\n",
    "\n",
    "[1]: http://trofimovdigital.ru \"Optional Title Here\"\n",
    "[2]: http://trofimovdigital.ru\n",
    "[id]: http://trofimovdigital.ru (Optional Title Here)\n",
    "[Короткая запись]: http://trofimovdigital.ru\n",
    "\n",
    "Сноски можно располагать в любом месте документа."
   ]
  },
  {
   "cell_type": "markdown",
   "metadata": {},
   "source": [
    "### 7. Картинки\n",
    "\n",
    "Картинка без alt текста.\n",
    "\n",
    "![](//trofimovdigital.ru/150x150.jpg)\n",
    "Картинка с альтом и тайтлом.\n",
    "\n",
    "![Alt text](//trofimovdigital.ru/150x150.jpg \"title\")\n",
    "Картинки «сноски» по аналогии с ссылками.\n",
    "\n",
    "![Картинка][image1]\n",
    "\n",
    "![Картинка][image2]\n",
    "![Картинка][image3]\n",
    "\n",
    "[image1]: //trofimovdigital.ru/250x100.jpg\n",
    "\n",
    "[image2]: //trofimovdigital.ru/200x100.jpg\n",
    "\n",
    "[image3]: //trofimovdigital.ru/150x100.jpg\n",
    "\n",
    "Картинки-ссылки:\n",
    "[![Alt text](//trofimovdigital.ru/150x100.jpg)](http://trofimovdigital.ru/)"
   ]
  },
  {
   "cell_type": "markdown",
   "metadata": {},
   "source": [
    "### 8. Таблицы\n",
    "В оригинальном Markdown нет разметки для таблиц, но есть в GitHub Flavored Markdown.\n",
    "\n",
    "First Header  | Second Header\n",
    "------------- | -------------\n",
    "Content Cell  | Content Cell\n",
    "Content Cell  | Content Cell\n",
    "\n",
    "Можно управлять выравниванием столбцов используя символ двоеточия. Ещё можно использовать ссылки, наклонный, жирный или зачеркнутый текст.\n",
    "\n",
    "| Left-Aligned  | Center Aligned  |      Right Aligned    |\n",
    "|:------------- |:---------------:| ---------------------:|\n",
    "| Content Cell  | Content Cell    | **bold**              |\n",
    "| Content Cell  | Content Cell    | ~~strikethrough~~     |\n",
    "| Content Cell  | Content Cell    | [link](https://ya.ru) |"
   ]
  }
 ],
 "metadata": {
  "language_info": {
   "name": "python"
  },
  "orig_nbformat": 4
 },
 "nbformat": 4,
 "nbformat_minor": 2
}
