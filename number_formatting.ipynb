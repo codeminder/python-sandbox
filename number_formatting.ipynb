{
 "cells": [
  {
   "cell_type": "markdown",
   "metadata": {},
   "source": [
    "### Format float as integer"
   ]
  },
  {
   "cell_type": "code",
   "execution_count": 2,
   "metadata": {},
   "outputs": [
    {
     "name": "stdout",
     "output_type": "stream",
     "text": [
      "3\n",
      "4\n"
     ]
    }
   ],
   "source": [
    "num1 = 3.148920428\n",
    "num2 = 3.548920428\n",
    "print(f'{num1:.0f}')\n",
    "print(f'{num2:.0f}')"
   ]
  },
  {
   "cell_type": "markdown",
   "metadata": {},
   "source": [
    "### Round float to 2 decimal places"
   ]
  },
  {
   "cell_type": "code",
   "execution_count": 3,
   "metadata": {},
   "outputs": [
    {
     "name": "stdout",
     "output_type": "stream",
     "text": [
      "3.14\n",
      "3.55\n"
     ]
    }
   ],
   "source": [
    "num1 = 3.142920428\n",
    "num2 = 3.548920428\n",
    "print(f'{num1:.2f}')\n",
    "print(f'{num2:.2f}')"
   ]
  },
  {
   "cell_type": "markdown",
   "metadata": {},
   "source": [
    "### Left padding with zeros"
   ]
  },
  {
   "cell_type": "code",
   "execution_count": 4,
   "metadata": {},
   "outputs": [
    {
     "name": "stdout",
     "output_type": "stream",
     "text": [
      "000003.14\n",
      "0003.55\n"
     ]
    }
   ],
   "source": [
    "num1 = 3.142920428\n",
    "num2 = 3.548920428\n",
    "print(f'{num1:0>9.2f}')\n",
    "print(f'{num2:0>7.2f}')"
   ]
  },
  {
   "cell_type": "markdown",
   "metadata": {},
   "source": [
    "### Right padding with zeros"
   ]
  },
  {
   "cell_type": "code",
   "execution_count": 11,
   "metadata": {},
   "outputs": [
    {
     "name": "stdout",
     "output_type": "stream",
     "text": [
      "3.14292042800000000\n",
      "3.55000\n",
      "23.5500\n"
     ]
    }
   ],
   "source": [
    "num1 = 3.142920428\n",
    "num2 = 3.548920428\n",
    "num3 = 23.548920428\n",
    "print(f'{num1:<019}')\n",
    "print(f'{num2:<07.2f}')\n",
    "print(f'{num3:<07.2f}')"
   ]
  }
 ],
 "metadata": {
  "kernelspec": {
   "display_name": "venv3.10",
   "language": "python",
   "name": "python3"
  },
  "language_info": {
   "codemirror_mode": {
    "name": "ipython",
    "version": 3
   },
   "file_extension": ".py",
   "mimetype": "text/x-python",
   "name": "python",
   "nbconvert_exporter": "python",
   "pygments_lexer": "ipython3",
   "version": "3.10.10"
  },
  "orig_nbformat": 4
 },
 "nbformat": 4,
 "nbformat_minor": 2
}
